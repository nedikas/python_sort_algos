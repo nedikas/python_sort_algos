{
 "cells": [
  {
   "cell_type": "code",
   "execution_count": 14,
   "id": "c5c5143a-61a4-4ce3-9fbc-3f1afc4483bc",
   "metadata": {},
   "outputs": [],
   "source": [
    "#Algos tri"
   ]
  },
  {
   "cell_type": "code",
   "execution_count": 49,
   "id": "410d3183-af95-4030-8855-e3ce7172b975",
   "metadata": {},
   "outputs": [],
   "source": [
    "import time\n",
    "import random\n",
    "import time\n",
    "from functools import wraps\n",
    "import numpy as np"
   ]
  },
  {
   "cell_type": "code",
   "execution_count": 16,
   "id": "a3a2bd27-95f0-43a0-8c46-ceb03384d1af",
   "metadata": {},
   "outputs": [],
   "source": [
    "#Time decorator\n",
    "def timeit(func):\n",
    "    @wraps(func)\n",
    "    def timeit_wrapper(*args, **kwargs):\n",
    "        start_time = time.perf_counter()\n",
    "        result = func(*args, **kwargs)\n",
    "        end_time = time.perf_counter()\n",
    "        total_time = end_time - start_time\n",
    "        print(f'{func.__name__} [{len(args[0])}]: {total_time*1000:.9f} ms')\n",
    "        return result\n",
    "    return timeit_wrapper"
   ]
  },
  {
   "cell_type": "code",
   "execution_count": 17,
   "id": "795284af-0a64-4585-b96e-4c96b5aff1c6",
   "metadata": {},
   "outputs": [],
   "source": [
    "#Bubble sort\n",
    "@timeit\n",
    "def bubble_sort(array):\n",
    "    n = len(array)\n",
    "    invert=False\n",
    "    n_boucles=0\n",
    "    for i in range(n):\n",
    "        invert=False\n",
    "        for j in range(n-i-1):\n",
    "            n_boucles +=1\n",
    "            if j == n-i-2 and invert==False:\n",
    "                #array sorted\n",
    "                return n_boucles;\n",
    "\n",
    "            ## checking the next element\n",
    "            if array[j] > array[j + 1]:\n",
    "                ## swapping the adjucent elements\n",
    "                array[j], array[j + 1] = array[j + 1], array[j] \n",
    "                invert = True\n"
   ]
  },
  {
   "cell_type": "code",
   "execution_count": 18,
   "id": "0e0ba54f-5868-4dd6-9abe-77a08898129f",
   "metadata": {},
   "outputs": [],
   "source": [
    "#Selection sort\n",
    "@timeit\n",
    "def selection_sort(array):\n",
    "    n = len(array)\n",
    "    for i in range(n):\n",
    "        #Consider item as the minimum, search for the real minimum\n",
    "        minimum = i\n",
    "        for j in range(i+1, n):\n",
    "            if array[j] < array[minimum] :\n",
    "                minimum = j\n",
    "        #swap i and j\n",
    "        array[i], array[minimum] = array[minimum], array[i]\n",
    "                "
   ]
  },
  {
   "cell_type": "code",
   "execution_count": 19,
   "id": "490deaf5",
   "metadata": {},
   "outputs": [],
   "source": [
    "#Insertion sort\n",
    "@timeit\n",
    "def insertion_sort(array):\n",
    "    n = len(array)\n",
    "    for i in range(n):\n",
    "        j = i\n",
    "        temp = array[i]\n",
    "        while j > 0  and  temp < array[j-1] :\n",
    "            array[j] = array[j-1] \n",
    "            j -= 1\n",
    "        \n",
    "        array[j] = temp\n",
    "    \n",
    "    #print(array)\n"
   ]
  },
  {
   "cell_type": "code",
   "execution_count": 50,
   "id": "8dcfb1ad",
   "metadata": {},
   "outputs": [],
   "source": [
    "#Merge sort\n",
    "@timeit\n",
    "def merge_sort(array):\n",
    "    _merge_sort(array)\n",
    "\n",
    "def _merge_sort(myList):\n",
    "    if len(myList) > 1:\n",
    "        mid = len(myList) // 2\n",
    "        left = myList[:mid]\n",
    "        right = myList[mid:]\n",
    "\n",
    "        # Recursive call on each half\n",
    "        _merge_sort(left)\n",
    "        _merge_sort(right)\n",
    "\n",
    "        # Two iterators for traversing the two halves\n",
    "        i = 0\n",
    "        j = 0\n",
    "        \n",
    "        # Iterator for the main list\n",
    "        k = 0\n",
    "        while i < len(left) and j < len(right):\n",
    "            if left[i] <= right[j]:\n",
    "                # The value from the left half has been used\n",
    "                myList[k] = left[i]\n",
    "                # Move the iterator forward\n",
    "                i += 1\n",
    "            else:\n",
    "                myList[k] = right[j]\n",
    "                j += 1\n",
    "            \n",
    "            # Move to the next slot\n",
    "            k += 1\n",
    "    \n",
    "        # For all the remaining values\n",
    "        while i < len(left):\n",
    "            myList[k] = left[i]\n",
    "            i += 1\n",
    "            k += 1\n",
    "\n",
    "        while j < len(right):\n",
    "            myList[k]=right[j]\n",
    "            j += 1\n",
    "            k += 1\n",
    "\n",
    "    \n"
   ]
  },
  {
   "cell_type": "code",
   "execution_count": 51,
   "id": "b48b4189",
   "metadata": {},
   "outputs": [],
   "source": [
    "#numpy\n",
    "@timeit\n",
    "def numpy_sort(array):\n",
    "    np.sort(array)"
   ]
  },
  {
   "cell_type": "code",
   "execution_count": null,
   "id": "424ac795",
   "metadata": {},
   "outputs": [],
   "source": [
    "#Quick sort\n",
    "\n",
    "def quick_sort(array):\n",
    "\n",
    "    left  = []\n",
    "    equal = []\n",
    "    right = []\n",
    "\n",
    "    if len(array) > 1 :\n",
    "        pivot = array[0]\n",
    "\n",
    "        for x in array:\n",
    "            if x < pivot:\n",
    "                left.append(x)\n",
    "            elif x == pivot:\n",
    "                equal.append(x)\n",
    "            elif x > pivot:\n",
    "                greater.append(x)\n",
    "\n",
    "        return quick_sort(left) + equal + quick_sort(greater)"
   ]
  },
  {
   "cell_type": "code",
   "execution_count": 41,
   "id": "70443e57-743b-4597-b731-a400bee336d3",
   "metadata": {},
   "outputs": [
    {
     "name": "stdout",
     "output_type": "stream",
     "text": [
      "merge_sort [10]: 0.074600000 ms\n"
     ]
    },
    {
     "data": {
      "text/plain": [
       "[1, 2, 3, 4, 5, 6, 8, 19, 22, 40]"
      ]
     },
     "execution_count": 41,
     "metadata": {},
     "output_type": "execute_result"
    }
   ],
   "source": [
    "arr = [6,3,8,5,4,2,1,19,40,22]\n",
    "m = merge_sort(arr)\n",
    "arr\n",
    "#b = bubble_sort(arr[:])\n",
    "#s = selection_sort(arr[:])\n",
    "#print(arr)\n",
    "#print(b)\n",
    "#print(s)"
   ]
  },
  {
   "cell_type": "code",
   "execution_count": 46,
   "id": "fd66c0cf-34ad-4da8-8d68-5551c2659e06",
   "metadata": {},
   "outputs": [],
   "source": [
    "def generate_testcase(n):\n",
    "    testcase = []\n",
    "    for i in range(n):\n",
    "        x = random.getrandbits(16)\n",
    "        testcase.append(x)\n",
    "    return testcase\n",
    "\n",
    "def generate_test_arrays():\n",
    "    arrs = []\n",
    "    test_arrays_sizes = [10, 100, 1000]\n",
    "    for size in test_arrays_sizes :\n",
    "        arrs.append(generate_testcase(size))\n",
    "    return arrs\n",
    "\n",
    "def sort_arrays(fun, list_arrays):\n",
    "    for ind, array in enumerate(list_arrays, start=1):\n",
    "        #print(f'===== Array {ind} == len {len(array)} ===')\n",
    "        a = array[:]\n",
    "        ret = fun(a)\n",
    "        #print(ret)\n",
    "        #print(\"=========================================\")"
   ]
  },
  {
   "cell_type": "code",
   "execution_count": 53,
   "id": "66d4644c-545b-4581-b659-b7e92b9edd83",
   "metadata": {},
   "outputs": [],
   "source": [
    "arrs = generate_test_arrays();\n",
    "algos = [selection_sort, insertion_sort, merge_sort, numpy_sort,bubble_sort]"
   ]
  },
  {
   "cell_type": "code",
   "execution_count": 54,
   "id": "9669c901-323f-47c2-b1d9-49bb7b444199",
   "metadata": {},
   "outputs": [
    {
     "name": "stdout",
     "output_type": "stream",
     "text": [
      "selection_sort [10]: 0.022500000 ms\n",
      "selection_sort [100]: 0.950200000 ms\n",
      "selection_sort [1000]: 55.565600000 ms\n",
      "insertion_sort [10]: 0.015600001 ms\n",
      "insertion_sort [100]: 0.692200000 ms\n",
      "insertion_sort [1000]: 67.651600000 ms\n",
      "merge_sort [10]: 0.118200001 ms\n",
      "merge_sort [100]: 0.556800000 ms\n",
      "merge_sort [1000]: 8.528400000 ms\n",
      "numpy_sort [10]: 0.141300000 ms\n",
      "numpy_sort [100]: 0.016300000 ms\n",
      "numpy_sort [1000]: 0.068300000 ms\n",
      "bubble_sort [10]: 0.019800000 ms\n",
      "bubble_sort [100]: 1.548300000 ms\n",
      "bubble_sort [1000]: 222.305000000 ms\n"
     ]
    }
   ],
   "source": [
    "for algo in algos:\n",
    "    sort_arrays(algo, arrs)"
   ]
  },
  {
   "cell_type": "code",
   "execution_count": 26,
   "id": "c52ba68d-d810-4e69-922b-295c81f8f9ba",
   "metadata": {},
   "outputs": [
    {
     "name": "stdout",
     "output_type": "stream",
     "text": [
      "selection_sort [10]: 0.006700000 ms\n",
      "selection_sort [100]: 0.195000000 ms\n",
      "insertion_sort [10]: 0.004300000 ms\n",
      "insertion_sort [100]: 0.255300000 ms\n",
      "bubble_sort [10]: 0.010900000 ms\n",
      "bubble_sort [100]: 0.677700000 ms\n"
     ]
    }
   ],
   "source": [
    "for algo in algos:\n",
    "    sort_arrays(algo, arrs)"
   ]
  },
  {
   "cell_type": "code",
   "execution_count": null,
   "id": "b9e89e84",
   "metadata": {},
   "outputs": [],
   "source": []
  }
 ],
 "metadata": {
  "interpreter": {
   "hash": "d3561111dc96af0995b91fcd08c4b92cbdbcbe98f18a883d8adf1ec7ecb822f3"
  },
  "kernelspec": {
   "display_name": "Python 3 (ipykernel)",
   "language": "python",
   "name": "python3"
  },
  "language_info": {
   "codemirror_mode": {
    "name": "ipython",
    "version": 3
   },
   "file_extension": ".py",
   "mimetype": "text/x-python",
   "name": "python",
   "nbconvert_exporter": "python",
   "pygments_lexer": "ipython3",
   "version": "3.9.13"
  }
 },
 "nbformat": 4,
 "nbformat_minor": 5
}
